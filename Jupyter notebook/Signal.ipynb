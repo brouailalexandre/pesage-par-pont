{
 "cells": [
  {
   "cell_type": "code",
   "execution_count": 3,
   "metadata": {},
   "outputs": [],
   "source": [
    "import pandas as pd\n",
    "import numpy as np"
   ]
  },
  {
   "cell_type": "code",
   "execution_count": 4,
   "metadata": {},
   "outputs": [],
   "source": [
    "class Signal:\n",
    "    \n",
    "    def __init__(self, data):\n",
    "        self.data = data\n",
    "        self.pics = [] # list des pics\n",
    "        self.deletion_limit = 0.0 # float de la limit positive\n",
    "        \n",
    "    \n",
    "    def deletion_band(self, pourcentage=0.41, nbr_std=3, deletion=False):\n",
    "        fourchette = self.iloc[:int(pourcentage*len(self)),:].iloc[:,1].std()*nbr_std\n",
    "        \n",
    "        if deletion:\n",
    "            for index, pic in enumerate(self.pics):\n",
    "                if pic.time > self.deletion_limit | pic.time < -self.deletion_limit:\n",
    "                    self.pics.pop(index)\n",
    "                    \n",
    "        return fourchette\n",
    "    \n",
    "    \n",
    "    def find_close_point(self, close_point):\n",
    "        '''\n",
    "            Recherche du point le plus proche de 'close_point' sur la courbe\n",
    "            param:\n",
    "                - (close_point : DataFrame) Le point dont on cherche le plus proche sur la courbe\n",
    "            return: (DataFrame) contenant l'index, l'amplitude et la position du point\n",
    "        '''\n",
    "        \n",
    "        points = pd.DataFrame(columns=[\"index\", \"time\", \"amplitude\"])\n",
    "        \n",
    "        for index, row in close_point.iterrows():\n",
    "            time_diff = abs(row.time - self.iloc[:,0])\n",
    "            amplitude_diff = abs(row.amplitude - self.iloc[:,1])\n",
    "\n",
    "            sum_diff = time_diff + amplitude_diff\n",
    "            id_min = sum_diff.idxmin()\n",
    "            \n",
    "            points = points.append(self.loc[[id_min],:].reset_index(), ignore_index=True)\n",
    "            \n",
    "        return points\n",
    "    \n",
    "    \n",
    "    def find_symetric_point(self, first_points, peaks):\n",
    "        points = pd.DataFrame(columns=[\"index\", \"time\", \"amplitude\"])\n",
    "        \n",
    "        for fp, pk in zip(first_points.iterrows(), enumerate(peaks)): \n",
    "                if fp[1].time < pk[1].time:\n",
    "                    signal_cut = self[self.iloc[:,0] > pk[1].time]\n",
    "                else:\n",
    "                    signal_cut = self[self.iloc[:,0] < pk[1].time]\n",
    "                \n",
    "                points = points.append(find_close_point(signal_cut, pd.DataFrame(fp[1]).T), ignore_index=True)\n",
    "        \n",
    "        return points\n",
    "    \n",
    "    \n",
    "    def calcultate_middle(self, signal):\n",
    "        max_peaks = min_max_separation(signal, pics)[1]\n",
    "\n",
    "        middle_position = max_peaks.iloc[:,0]\n",
    "        middle_amplitude = max_peaks.iloc[:,1] - max_peaks.iloc[:,1]/2\n",
    "\n",
    "        return pd.concat([middle_position, middle_amplitude], axis=1)"
   ]
  },
  {
   "cell_type": "code",
   "execution_count": null,
   "metadata": {},
   "outputs": [],
   "source": [
    "class Pic:\n",
    "    \n",
    "    def __init__(self, amplitude, time, sample_number, kind):\n",
    "        self.amplitude = amplitude\n",
    "        self.time = amplitude\n",
    "        self.sample_number = sample_number\n",
    "        self.fwhm = 0.0 # float de la lagueur à mi-hauteur du pic\n",
    "        self.kind = kind\n",
    "        \n",
    "    \n",
    "    "
   ]
  }
 ],
 "metadata": {
  "kernelspec": {
   "display_name": "Python 3",
   "language": "python",
   "name": "python3"
  },
  "language_info": {
   "codemirror_mode": {
    "name": "ipython",
    "version": 3
   },
   "file_extension": ".py",
   "mimetype": "text/x-python",
   "name": "python",
   "nbconvert_exporter": "python",
   "pygments_lexer": "ipython3",
   "version": "3.6.4"
  }
 },
 "nbformat": 4,
 "nbformat_minor": 2
}
