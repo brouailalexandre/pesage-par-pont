{
 "cells": [
  {
   "cell_type": "code",
   "execution_count": 507,
   "metadata": {},
   "outputs": [],
   "source": [
    "import pandas as pd\n",
    "import numpy as np\n",
    "\n",
    "import matplotlib.pyplot as plt\n",
    "import seaborn as sns\n",
    "\n",
    "import os\n",
    "import glob\n",
    "import json\n",
    "\n",
    "from analytic_wfm.peakdetect import *\n",
    "import cloudpickle\n",
    "\n",
    "%run \"Fonctions.ipynb\"\n",
    "%run \"Signal.ipynb\""
   ]
  },
  {
   "cell_type": "code",
   "execution_count": 472,
   "metadata": {},
   "outputs": [],
   "source": [
    "trucks = select_all_best_signal('../Millau/Resultats/', '.txt')"
   ]
  },
  {
   "cell_type": "code",
   "execution_count": 473,
   "metadata": {},
   "outputs": [],
   "source": [
    "backup_path = \"backup/instance/class_trucks.sig\"\n",
    "for name_truck, signaux_truck in trucks.items():\n",
    "    bkp_path = backup_path.split(\"/\")\n",
    "    if not os.path.exists(backup_path):\n",
    "        # Création des class Signal\n",
    "        trucks[name_truck] = Signal(name_truck, signaux_truck)\n",
    "        save_instance_class(trucks, directory=bkp_path[0]+\"/\", filename=bkp_path[1])\n",
    "    else:\n",
    "        trucks = load_instance_class(directory=bkp_path[0]+\"/\", filename=bkp_path[1])"
   ]
  },
  {
   "cell_type": "code",
   "execution_count": 505,
   "metadata": {},
   "outputs": [],
   "source": []
  },
  {
   "cell_type": "code",
   "execution_count": 508,
   "metadata": {},
   "outputs": [],
   "source": []
  },
  {
   "cell_type": "markdown",
   "metadata": {},
   "source": [
    "#### Selection meilleur signal"
   ]
  },
  {
   "cell_type": "code",
   "execution_count": 234,
   "metadata": {},
   "outputs": [
    {
     "ename": "NameError",
     "evalue": "name 'test' is not defined",
     "output_type": "error",
     "traceback": [
      "\u001b[1;31m---------------------------------------------------------------------------\u001b[0m",
      "\u001b[1;31mNameError\u001b[0m                                 Traceback (most recent call last)",
      "\u001b[1;32m<ipython-input-234-47ead87108ad>\u001b[0m in \u001b[0;36m<module>\u001b[1;34m()\u001b[0m\n\u001b[1;32m----> 1\u001b[1;33m \u001b[0msignaux\u001b[0m \u001b[1;33m=\u001b[0m \u001b[0msupperposition_signaux\u001b[0m\u001b[1;33m(\u001b[0m\u001b[0mtest\u001b[0m\u001b[1;33m)\u001b[0m\u001b[1;33m\u001b[0m\u001b[0m\n\u001b[0m\u001b[0;32m      2\u001b[0m \u001b[0mpics\u001b[0m \u001b[1;33m=\u001b[0m \u001b[0mcalcul_pics\u001b[0m\u001b[1;33m(\u001b[0m\u001b[0msignaux\u001b[0m\u001b[1;33m,\u001b[0m \u001b[1;36m6\u001b[0m\u001b[1;33m,\u001b[0m \u001b[1;36m0.05\u001b[0m\u001b[1;33m,\u001b[0m \u001b[1;36m0.15\u001b[0m\u001b[1;33m)\u001b[0m\u001b[1;33m\u001b[0m\u001b[0m\n\u001b[0;32m      3\u001b[0m \u001b[0mbest\u001b[0m \u001b[1;33m=\u001b[0m \u001b[0mbest_courbe\u001b[0m\u001b[1;33m(\u001b[0m\u001b[0msignaux\u001b[0m\u001b[1;33m,\u001b[0m \u001b[0mpics\u001b[0m\u001b[1;33m)\u001b[0m\u001b[1;33m\u001b[0m\u001b[0m\n",
      "\u001b[1;31mNameError\u001b[0m: name 'test' is not defined"
     ]
    }
   ],
   "source": [
    "signaux = supperposition_signaux(test)\n",
    "pics = calcul_pics(signaux, 6, 0.05, 0.15)\n",
    "best = best_courbe(signaux, pics)"
   ]
  },
  {
   "cell_type": "code",
   "execution_count": null,
   "metadata": {},
   "outputs": [],
   "source": [
    "plt.figure(figsize=(15, 10))\n",
    "\n",
    "# Courbe de capteurs\n",
    "plt.plot(best[0].iloc[:, 0], best[0].iloc[:, 1])\n",
    "\n",
    "# Detections des maximas et minimas\n",
    "plt.scatter(best[1].iloc[:, 0], best[1].iloc[:, 1])\n",
    "\n",
    "plt.legend([best[0].iloc[:,1].name])\n",
    "plt.xlabel(\"Temps\")\n",
    "plt.ylabel(\"Amplitude\")\n",
    "\n",
    "plt.show()"
   ]
  },
  {
   "cell_type": "code",
   "execution_count": null,
   "metadata": {},
   "outputs": [],
   "source": [
    "var_name = ['pos_min_', 'min_', 'pos_max_', 'max_']\n",
    "var_list = []\n",
    "\n",
    "for elt in var_name:\n",
    "    if elt == var_name[0] or elt == var_name[1]:\n",
    "        var_list.append(list_multiple_var(elt, 1, len(min_sig)))\n",
    "    else:\n",
    "        var_list.append(list_multiple_var(elt, 1, len(max_sig)))"
   ]
  },
  {
   "cell_type": "code",
   "execution_count": null,
   "metadata": {},
   "outputs": [],
   "source": [
    "pos_min = min_sig[[0]].T.reset_index(drop=True)\n",
    "min_ampl = min_sig[[1]].T.reset_index(drop=True)\n",
    "pos_max = max_sig[[0]].T.reset_index(drop=True)\n",
    "max_ampl = max_sig[[1]].T.reset_index(drop=True)\n",
    "\n",
    "pos_min.columns = var_list[0]\n",
    "min_ampl.columns = var_list[1]\n",
    "pos_max.columns = var_list[2]\n",
    "max_ampl.columns = var_list[3]"
   ]
  },
  {
   "cell_type": "code",
   "execution_count": null,
   "metadata": {},
   "outputs": [],
   "source": [
    "pd.concat([,pos_min, min_ampl, pos_max, max_ampl], axis=1)"
   ]
  }
 ],
 "metadata": {
  "kernelspec": {
   "display_name": "Python 3",
   "language": "python",
   "name": "python3"
  },
  "language_info": {
   "codemirror_mode": {
    "name": "ipython",
    "version": 3
   },
   "file_extension": ".py",
   "mimetype": "text/x-python",
   "name": "python",
   "nbconvert_exporter": "python",
   "pygments_lexer": "ipython3",
   "version": "3.6.4"
  }
 },
 "nbformat": 4,
 "nbformat_minor": 2
}
