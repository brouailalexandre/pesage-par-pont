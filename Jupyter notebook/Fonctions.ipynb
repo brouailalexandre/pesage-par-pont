{
 "cells": [
  {
   "cell_type": "markdown",
   "metadata": {},
   "source": [
    "# Fonctions utiles"
   ]
  },
  {
   "cell_type": "markdown",
   "metadata": {},
   "source": [
    "### Import"
   ]
  },
  {
   "cell_type": "code",
   "execution_count": 16,
   "metadata": {},
   "outputs": [],
   "source": [
    "import pandas as pd\n",
    "import numpy as np\n",
    "import os\n",
    "import glob"
   ]
  },
  {
   "cell_type": "markdown",
   "metadata": {},
   "source": [
    "### Conversion mathématique"
   ]
  },
  {
   "cell_type": "code",
   "execution_count": 34,
   "metadata": {},
   "outputs": [],
   "source": [
    "def kN_t(kN=0, t_kg=0, unite_sortie='t'):\n",
    "    '''\n",
    "    Convertisseur kN <-> t, kg\n",
    "        param: kN - kiloNewton\n",
    "               t_kg - tonne ou kilogramme\n",
    "               unite_sortie - Unité attendue en sortie de calcul : kN, t ou kg\n",
    "        return: (float) Résultat du calcul de convertion\n",
    "    '''\n",
    "    \n",
    "    if unite_sortie == 'kN':\n",
    "        return t_kg/0.102\n",
    "    elif unite_sortie == 't':\n",
    "        return kN*0.102\n",
    "    elif unite_sortie == 'kg':\n",
    "        return kN*102\n",
    "    else:\n",
    "        print(\"L'unité n'est pas reconnue.\\nChoix possible : \\n\\t- kN (kiloNewtons)\\n\\t- t (tonnes)\\n\\t- kg (kilogrammes)\")\n",
    "        return 0"
   ]
  },
  {
   "cell_type": "code",
   "execution_count": 35,
   "metadata": {},
   "outputs": [],
   "source": [
    "def ms_kmh(ms=0, kmh=0, unite_sortie='kmh'):\n",
    "    '''\n",
    "    Convertisseur m/s <-> km/h\n",
    "        param: ms - Mètre / seconde\n",
    "               kmh - Kilomètre / heure\n",
    "               unite_sortie - Unité attendue en sortie de calcul : ms ou kmh\n",
    "        return: (float) Résultat du calcul de convertion\n",
    "    '''\n",
    "    \n",
    "    if unite_sortie == 'kmh':\n",
    "        return ms*3.6\n",
    "    elif unite_sortie == 'ms':\n",
    "        return kmh/3.6\n",
    "    else:\n",
    "        print(\"L'unité n'est pas reconnue.\\nChoix possible : \\n\\t- kmh (km/h)\\n\\t- ms (m/s)\")\n",
    "        return 0"
   ]
  },
  {
   "cell_type": "code",
   "execution_count": 36,
   "metadata": {},
   "outputs": [],
   "source": [
    "def hex_to_dec(element):\n",
    "        new_list = []\n",
    "        for elt in element:\n",
    "            new_list.append(int(elt, 16))\n",
    "            \n",
    "        return new_list"
   ]
  },
  {
   "cell_type": "markdown",
   "metadata": {},
   "source": [
    "### Découpage Series et conversion DataFrame"
   ]
  },
  {
   "cell_type": "code",
   "execution_count": 2,
   "metadata": {},
   "outputs": [],
   "source": [
    "'''\n",
    "Découpage des 'Warning Flags' et conversion en int\n",
    "    param: WF_series - Warning Flags Series\n",
    "    return: (DataFrame - int64) 8 colonnes contenant les warning flags par groupe de bits\n",
    "'''\n",
    "def warningFlags_dummies(WF_series):\n",
    "    def normalisation_warningFlags(element):\n",
    "        limit = 8 # Fixed by norm .nswd files\n",
    "        len_elt = len(element)\n",
    "        add_list = []\n",
    "        for i in range(limit):\n",
    "            add_list.append('0')\n",
    "\n",
    "        if len_elt <= limit:\n",
    "            alpha = limit-len_elt\n",
    "            element = add_list[:alpha] + element\n",
    "\n",
    "        return element\n",
    "    \n",
    "    normalisationWarningFlags = WF_series.apply(lambda x: normalisation_warningFlags(hex_to_dec(list(x))))\n",
    "    warnings = pd.DataFrame.from_items(zip(normalisationWarningFlags.index, normalisationWarningFlags.values),\\\n",
    "                                       columns=['W7', 'W6', 'W5', 'W4', 'W3', 'W2', 'W1', 'W0'], orient='index')\n",
    "    \n",
    "    return warnings.astype('int64')"
   ]
  },
  {
   "cell_type": "code",
   "execution_count": 40,
   "metadata": {},
   "outputs": [],
   "source": [
    "'''\n",
    "Découpage du 'timestamp' et conversion en int\n",
    "    param: TS_series - Timestamp Series\n",
    "    return: (Dataframe - int64) 7 colonnes contenant respectivement une donnée du timestamp: Year, Month, Day, ...\n",
    "'''\n",
    "def timestamp_dummies(TS_series):\n",
    "    splitTimestamp = TS_series.str.split('-')\n",
    "    time = pd.DataFrame.from_items(zip(splitTimestamp.index, splitTimestamp.values),\\\n",
    "                                   columns=['Year', 'Month', 'Day', 'Hour', 'Minute', 'Seconde', 'Millisecondes'],\\\n",
    "                                   orient='index')\n",
    "    \n",
    "    return time.astype('int64')"
   ]
  },
  {
   "cell_type": "code",
   "execution_count": 38,
   "metadata": {},
   "outputs": [],
   "source": [
    "'''\n",
    "Découpage de 'axle groups' et conversion en int\n",
    "    param: AG_series - Axle Groups Series\n",
    "    return: (Dataframe - int64) x colonnes dépendant du nombre d'axes totals de AG_series contenant respectivement un\n",
    "            roupe d'axe chacune\n",
    "'''\n",
    "def axleGroups_dummies(AG_series):\n",
    "    limit = np.max(AG_series.apply(lambda x: len(x)))\n",
    "    \n",
    "    def normalisation_axleGroups(element, limit):\n",
    "        len_elt = len(element)\n",
    "        add_list = []\n",
    "        for i in range(limit):\n",
    "            add_list.append('0')\n",
    "\n",
    "        if len_elt <= limit:\n",
    "            alpha = limit-len_elt\n",
    "            element += add_list[:alpha]\n",
    "\n",
    "        return element\n",
    "    \n",
    "    normalisationAxleGroups = AG_series.apply(lambda x: normalisation_axleGroups(hex_to_dec(list(x)), limit))\n",
    "\n",
    "    # Création colonnes axle groups\n",
    "    columns = []\n",
    "    base_name = 'AG_'\n",
    "    for i in range(1,limit+1):\n",
    "        columns.append(base_name + str(i))\n",
    "    \n",
    "    axle = pd.DataFrame.from_items(zip(normalisationAxleGroups.index, normalisationAxleGroups.values),\\\n",
    "                                       columns=columns, orient='index')\n",
    "    \n",
    "    return axle.astype('int64')"
   ]
  },
  {
   "cell_type": "markdown",
   "metadata": {},
   "source": [
    "### Recherche sur DataFrame ou Serie"
   ]
  },
  {
   "cell_type": "code",
   "execution_count": 5,
   "metadata": {},
   "outputs": [],
   "source": [
    "'''\n",
    "Recherche éléments uniques dans pandas Series\n",
    "    param: Series - Pandas Series où rechercher les éléments uniques\n",
    "    return: (DataFrame) Ensemble des éléments uniques du pandas Series\n",
    "'''\n",
    "def unique_element(Series):\n",
    "    element = []\n",
    "    for val in Series:\n",
    "        if val not in element:\n",
    "            element.append(val)\n",
    "            \n",
    "    return pd.DataFrame(element, columns=[Series.name])"
   ]
  },
  {
   "cell_type": "code",
   "execution_count": 6,
   "metadata": {},
   "outputs": [],
   "source": [
    "'''\n",
    "Recherche éléments uniques dans pandas dataframe\n",
    "    param: DataFrame - Pandas DataFrame où rechercher les éléments uniques\n",
    "    return: (DataFrame) Ensemble des éléments uniques de la pandas DataFrame\n",
    "'''\n",
    "def unique_element_df(DataFrame):\n",
    "    df = pd.DataFrame()\n",
    "    for col in DataFrame:\n",
    "        df = pd.concat([df, unique_element(DataFrame[col])], axis=1)\n",
    "\n",
    "    return df"
   ]
  },
  {
   "cell_type": "code",
   "execution_count": 1,
   "metadata": {},
   "outputs": [],
   "source": [
    "def count_null(DataFrame):\n",
    "    '''\n",
    "    Comptage des élements NaN par colonne dans DataFrame\n",
    "        param: DataFrame - DataFrame où l'on cherche à compter les NaN \n",
    "        return: (DataFrame) Listant l'ensemble des colonnes en comptant leur nombre de NaN\n",
    "    '''\n",
    "    return pd.DataFrame(data={'Missing':DataFrame.isnull().sum()}).sort_values(['Missing'])"
   ]
  },
  {
   "cell_type": "markdown",
   "metadata": {},
   "source": [
    "### Liste redondante"
   ]
  },
  {
   "cell_type": "code",
   "execution_count": 8,
   "metadata": {},
   "outputs": [],
   "source": [
    "'''\n",
    "Création liste charge sur essieux et distance entre essieux\n",
    "    param: bare_str_var - String contenant le préfix de la variable avant le chiffre incrémenté\n",
    "           var_from - Int de départ de l'incrémentation de la liste\n",
    "           var_to - Int de fin de la liste\n",
    "    return: (list) Liste de l'ensemble des variables incrémentés commençant par 'bare_str_var'\n",
    "'''\n",
    "def list_multiple_var(bare_str_var, var_from=1, var_to=1):\n",
    "    list_return = []\n",
    "    \n",
    "    try:\n",
    "        if var_from > var_to:\n",
    "            raise ValueError\n",
    "        \n",
    "        for i in range(var_from, var_to+1):\n",
    "            list_return.append(bare_str_var+'{}'.format(i))\n",
    "            \n",
    "        return list_return\n",
    "        \n",
    "    except ValueError:\n",
    "        print(\"'var_from' doit être inférieur ou égale à 'var_to'\")"
   ]
  },
  {
   "cell_type": "markdown",
   "metadata": {},
   "source": [
    "### Fichiers système"
   ]
  },
  {
   "cell_type": "code",
   "execution_count": 9,
   "metadata": {},
   "outputs": [],
   "source": [
    "'''\n",
    "Récupérer chemins des fichiers avec 'extension'\n",
    "    param: source - String de chemin parent ou commencer à chercher les fichiers\n",
    "           extension - String de l'extension à rechercher\n",
    "    return: (list) Tous les chemins des fichiers avec 'extension'\n",
    "'''\n",
    "def find_all_extension(source, extension):\n",
    "    list_ext = []\n",
    "    \n",
    "    for elt in glob.glob(source):\n",
    "        if os.path.isdir(elt):\n",
    "            list_ext.extend(find_all_extension(elt + '\\\\*', extension))\n",
    "        else:\n",
    "            if extension in elt:\n",
    "                list_ext.append(elt)\n",
    "          \n",
    "    return list_ext"
   ]
  },
  {
   "cell_type": "code",
   "execution_count": null,
   "metadata": {},
   "outputs": [],
   "source": []
  }
 ],
 "metadata": {
  "kernelspec": {
   "display_name": "Python 3",
   "language": "python",
   "name": "python3"
  },
  "language_info": {
   "codemirror_mode": {
    "name": "ipython",
    "version": 3
   },
   "file_extension": ".py",
   "mimetype": "text/x-python",
   "name": "python",
   "nbconvert_exporter": "python",
   "pygments_lexer": "ipython3",
   "version": "3.6.4"
  }
 },
 "nbformat": 4,
 "nbformat_minor": 2
}
